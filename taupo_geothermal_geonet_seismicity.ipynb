{
 "cells": [
  {
   "cell_type": "markdown",
   "metadata": {},
   "source": [
    "# GeoNet Seismicity For the Taupo Area, Focussed on the Four Geothermal Fields Used For Power Production\n",
    "\n",
    "This is hopefully a useful tool should we get enquiries about induced seismicity. Data is GeoNet so can display freely."
   ]
  },
  {
   "cell_type": "markdown",
   "metadata": {},
   "source": [
    "**Import modules, etc**"
   ]
  },
  {
   "cell_type": "code",
   "execution_count": null,
   "metadata": {},
   "outputs": [],
   "source": [
    "#import cartopy\n",
    "import cartopy.crs as ccrs\n",
    "import cartopy.io.img_tiles as cimgt\n",
    "from cartopy.io.img_tiles import OSM\n",
    "\n",
    "import pandas as pd\n",
    "import numpy as np\n",
    "import pyproj\n",
    "from math import floor\n",
    "\n",
    "import datetime\n",
    "\n",
    "import matplotlib as mpl\n",
    "import matplotlib.pyplot as plt\n",
    "from matplotlib.transforms import offset_copy\n",
    "from matplotlib import patheffects\n",
    "import matplotlib.gridspec as gridspec\n",
    "import warnings; warnings.simplefilter('ignore')\n",
    "\n",
    "%matplotlib inline"
   ]
  },
  {
   "cell_type": "code",
   "execution_count": null,
   "metadata": {},
   "outputs": [],
   "source": [
    "plt.style.use('fivethirtyeight')"
   ]
  },
  {
   "cell_type": "code",
   "execution_count": null,
   "metadata": {},
   "outputs": [],
   "source": [
    "#full width notebook display\n",
    "from IPython.core.display import display, HTML\n",
    "display(HTML(\"<style>.container { width:100% !important; }</style>\"))"
   ]
  },
  {
   "cell_type": "code",
   "execution_count": null,
   "metadata": {},
   "outputs": [],
   "source": [
    "%%javascript\n",
    "IPython.OutputArea.prototype._should_scroll = function(lines) {\n",
    "    return false;\n",
    "}"
   ]
  },
  {
   "cell_type": "markdown",
   "metadata": {},
   "source": [
    "## Functions"
   ]
  },
  {
   "cell_type": "code",
   "execution_count": null,
   "metadata": {},
   "outputs": [],
   "source": [
    "def haversine_np(lon1, lat1, lon2, lat2):\n",
    "    \"\"\"\n",
    "    Calculate the great circle distance between two points\n",
    "    on the earth (specified in decimal degrees)\n",
    "\n",
    "    All args must be of equal length.    \n",
    "\n",
    "    \"\"\"\n",
    "    lon1, lat1, lon2, lat2 = map(np.radians, [lon1, lat1, lon2, lat2])\n",
    "\n",
    "    dlon = lon2 - lon1\n",
    "    dlat = lat2 - lat1\n",
    "\n",
    "    a = np.sin(dlat/2.0)**2 + np.cos(lat1) * np.cos(lat2) * np.sin(dlon/2.0)**2\n",
    "\n",
    "    c = 2 * np.arcsin(np.sqrt(a))\n",
    "    km = 6367 * c\n",
    "    return km\n",
    "\n",
    "def utm_from_lon(lon):\n",
    "    \"\"\"\n",
    "    utm_from_lon - UTM zone for a longitude\n",
    "\n",
    "    Not right for some polar regions (Norway, Svalbard, Antartica)\n",
    "\n",
    "    :param float lon: longitude\n",
    "    :return: UTM zone number\n",
    "    :rtype: int\n",
    "    \"\"\"\n",
    "    return floor( ( lon + 180 ) / 6) + 1\n",
    "\n",
    "def scale_bar(ax, proj, length, location=(0.5, 0.05), linewidth=3,\n",
    "              units='km', m_per_unit=1000):\n",
    "    \"\"\"\n",
    "\n",
    "    http://stackoverflow.com/a/35705477/1072212\n",
    "    ax is the axes to draw the scalebar on.\n",
    "    proj is the projection the axes are in\n",
    "    location is center of the scalebar in axis coordinates ie. 0.5 is the middle of the plot\n",
    "    length is the length of the scalebar in km.\n",
    "    linewidth is the thickness of the scalebar.\n",
    "    units is the name of the unit\n",
    "    m_per_unit is the number of meters in a unit\n",
    "    \"\"\"\n",
    "    # find lat/lon center to find best UTM zone\n",
    "    x0, x1, y0, y1 = ax.get_extent(proj.as_geodetic())\n",
    "    # Projection in metres\n",
    "    utm = ccrs.UTM(utm_from_lon((x0+x1)/2))\n",
    "    # Get the extent of the plotted area in coordinates in metres\n",
    "    x0, x1, y0, y1 = ax.get_extent(utm)\n",
    "    # Turn the specified scalebar location into coordinates in metres\n",
    "    sbcx, sbcy = x0 + (x1 - x0) * location[0], y0 + (y1 - y0) * location[1]\n",
    "    # Generate the x coordinate for the ends of the scalebar\n",
    "    bar_xs = [sbcx - length * m_per_unit/2, sbcx + length * m_per_unit/2]\n",
    "    # buffer for scalebar\n",
    "    buffer = [patheffects.withStroke(linewidth=5, foreground=\"w\")]\n",
    "    # Plot the scalebar with buffer\n",
    "    ax.plot(bar_xs, [sbcy, sbcy], transform=utm, color='k',\n",
    "        linewidth=linewidth, path_effects=buffer)\n",
    "    # buffer for text\n",
    "    buffer = [patheffects.withStroke(linewidth=3, foreground=\"w\")]\n",
    "    # Plot the scalebar label\n",
    "    t0 = ax.text(sbcx, sbcy, str(length) + ' ' + units, transform=utm,\n",
    "        horizontalalignment='center', verticalalignment='bottom',\n",
    "        path_effects=buffer, zorder=2)\n",
    "    left = x0+(x1-x0)*0.05\n",
    "    # Plot the N arrow\n",
    "    t1 = ax.text(left, sbcy, u'\\u25B2\\nN', transform=utm,\n",
    "        horizontalalignment='center', verticalalignment='bottom',\n",
    "        path_effects=buffer, zorder=2)\n",
    "    # Plot the scalebar without buffer, in case covered by text buffer\n",
    "    ax.plot(bar_xs, [sbcy, sbcy], transform=utm, color='k',\n",
    "        linewidth=linewidth, zorder=3)\n",
    "    \n",
    "# or to use m instead of km\n",
    "# scale_bar(ax, ccrs.Mercator(), 100000, m_per_unit=1, units='m')\n",
    "# or to use miles instead of km\n",
    "# scale_bar(ax, ccrs.Mercator(), 60, m_per_unit=1609.34, units='miles')\n",
    "\n",
    "#need specific font to show triangle for north arrow\n",
    "mpl.rc('font', family='DejaVu Sans')"
   ]
  },
  {
   "cell_type": "markdown",
   "metadata": {},
   "source": [
    "## Set Up Parameters"
   ]
  },
  {
   "cell_type": "code",
   "execution_count": null,
   "metadata": {},
   "outputs": [],
   "source": [
    "start = '2008-01-01T00:00:00'\n",
    "#no end is used, so search defaults to now"
   ]
  },
  {
   "cell_type": "code",
   "execution_count": null,
   "metadata": {},
   "outputs": [],
   "source": [
    "ngatamariki_latref = -38.546143\n",
    "ngatamariki_lonref = 176.195504\n",
    "\n",
    "rotokawa_latref = -38.615574\n",
    "rotokawa_lonref = 176.215\n",
    "\n",
    "mokai_latref = -38.519\n",
    "mokai_lonref = 175.918\n",
    "\n",
    "wairakei_tauhara_latref = -38.6488\n",
    "wairakei_tauhara_lonref = 176.0890"
   ]
  },
  {
   "cell_type": "code",
   "execution_count": null,
   "metadata": {},
   "outputs": [],
   "source": [
    "#box for search area\n",
    "latmin = -38.75\n",
    "latmax = -38.48\n",
    "lonmin = 175.84\n",
    "lonmax = 176.27\n",
    "bbox = '175.84,-38.75,176.27,-38.48'\n",
    "maxdep = '20'\n",
    "\n",
    "url = 'https://quakesearch.geonet.org.nz/csv?bbox='+bbox+'&maxdepth='+maxdep+'&startdate='+start"
   ]
  },
  {
   "cell_type": "code",
   "execution_count": null,
   "metadata": {},
   "outputs": [],
   "source": [
    "eqs = pd.read_csv(url, parse_dates=['origintime'], index_col='origintime', usecols=[2,4,5,6,7])"
   ]
  },
  {
   "cell_type": "code",
   "execution_count": null,
   "metadata": {},
   "outputs": [],
   "source": [
    "eqs.tail()"
   ]
  },
  {
   "cell_type": "markdown",
   "metadata": {},
   "source": [
    "## Plot hypocentres for the complete area on Open Street Map basemap"
   ]
  },
  {
   "cell_type": "code",
   "execution_count": null,
   "metadata": {},
   "outputs": [],
   "source": [
    "#imagery\n",
    "imagery = OSM()\n",
    "ax = plt.axes(projection=imagery.crs)\n",
    "ax.set_extent([lonmin, lonmax, latmin, latmax])\n",
    "ax.add_image(imagery, 10)\n",
    "\n",
    "#hypocentres, symbol size=magnitude squared, as scatter symbol size is symbol area, square gives 'pleasing' image\n",
    "plt.scatter(eqs['longitude'], eqs[' latitude'], color='red', marker='o', s=eqs[' magnitude']**2, transform=ccrs.Geodetic())\n",
    "\n",
    "#transform coordinate system so can plot text adjacent to sysmbol\n",
    "geodetic_transform = ccrs.Geodetic()._as_mpl_transform(ax)\n",
    "text_transform = offset_copy(geodetic_transform, units='dots', x=0)\n",
    "\n",
    "#fields, label by 2 letters\n",
    "plt.text(ngatamariki_lonref, ngatamariki_latref, 'Ng', verticalalignment='center', horizontalalignment='center', transform=text_transform, fontsize=8)\n",
    "plt.text(rotokawa_lonref, rotokawa_latref, 'Rk', verticalalignment='center', horizontalalignment='center', transform=text_transform, fontsize=8)\n",
    "plt.text(mokai_lonref, mokai_latref, 'Mk', verticalalignment='center', horizontalalignment='center', transform=text_transform, fontsize=8)\n",
    "plt.text(wairakei_tauhara_lonref, wairakei_tauhara_latref, 'Wk-Th', verticalalignment='center', horizontalalignment='center', transform=text_transform, fontsize=8)\n",
    "\n",
    "plt.title('Earthquakes at Geothermal Fields Near Taupo, Since 2008', fontsize=8)\n",
    "\n",
    "scale_bar(ax, ccrs.Mercator(), 5)\n",
    "\n",
    "plt.savefig('taupo_geothermal_geonet_seismicity_map.png', dpi=400)"
   ]
  },
  {
   "cell_type": "markdown",
   "metadata": {},
   "source": [
    "## Time Series\n",
    "\n",
    "Separate section for each field, so can adjusted separately"
   ]
  },
  {
   "cell_type": "markdown",
   "metadata": {},
   "source": [
    "### Rotokawa"
   ]
  },
  {
   "cell_type": "code",
   "execution_count": null,
   "metadata": {},
   "outputs": [],
   "source": [
    "eqs['dist'] = haversine_np(eqs['longitude'],eqs[' latitude'],rotokawa_lonref,rotokawa_latref)"
   ]
  },
  {
   "cell_type": "code",
   "execution_count": null,
   "metadata": {},
   "outputs": [],
   "source": [
    "eqsdist = eqs[eqs['dist']<3]"
   ]
  },
  {
   "cell_type": "code",
   "execution_count": null,
   "metadata": {},
   "outputs": [],
   "source": [
    "eqsdist['dist'].describe()"
   ]
  },
  {
   "cell_type": "code",
   "execution_count": null,
   "metadata": {},
   "outputs": [],
   "source": [
    "eqsdist['dist'].count()"
   ]
  },
  {
   "cell_type": "code",
   "execution_count": null,
   "metadata": {
    "scrolled": true
   },
   "outputs": [],
   "source": [
    "fig, (ax1) = plt.subplots(nrows=1,ncols=1, figsize=(15,5))\n",
    "\n",
    "#magnitude vs time\n",
    "eqsdist.plot(y=' magnitude', marker='o', markersize=5, linestyle='None', color='red', legend=False, ax=ax1, rot=0)\n",
    "\n",
    "#yearly ticks and grid\n",
    "majorTick = mpl.dates.YearLocator(1)\n",
    "majorFormat = mpl.dates.DateFormatter('%Y')\n",
    "ax1.xaxis.set_major_locator(majorTick)\n",
    "ax1.xaxis.set_major_formatter(majorFormat)\n",
    "\n",
    "ax1.set_ylim([0,4.2])\n",
    "now = datetime.datetime.now()\n",
    "ax1.set_xlim(start, str(now))\n",
    "ax1.set_ylabel('Magnitude')\n",
    "ax1.tick_params(labelright = True)\n",
    "\n",
    "#titles and text\n",
    "ax1.text(x = 0, y =0.95, transform=fig.transFigure, s = 'Earthquakes Located by GeoNet at Rotokawa Geothermal Field', horizontalalignment='left', fontsize = 20, color = 'black');\n",
    "ax1.text(x = 0, y = 0.90, transform=fig.transFigure, s = 'GeoNet, www.geonet.org.nz', fontsize = 14, color = 'darkgray')\n",
    "ax1.text(x = 1, y = 0.9, transform=fig.transFigure, s = 'SOURCE: GEONET, EARTHQUAKE DATABASE', horizontalalignment='right', fontsize = 14, color = 'darkgray');\n",
    "\n",
    "plt.xticks(ha='center') \n",
    "plt.xlabel(\"\") #get rid of useless 'date' label\n",
    "plt.tight_layout()\n",
    "plt.savefig('rotokawa_time-series.png', dpi=200)"
   ]
  },
  {
   "cell_type": "markdown",
   "metadata": {},
   "source": [
    "### Ngatamariki"
   ]
  },
  {
   "cell_type": "code",
   "execution_count": null,
   "metadata": {},
   "outputs": [],
   "source": [
    "eqs['dist'] = haversine_np(eqs['longitude'],eqs[' latitude'],ngatamariki_lonref,ngatamariki_latref)"
   ]
  },
  {
   "cell_type": "code",
   "execution_count": null,
   "metadata": {},
   "outputs": [],
   "source": [
    "eqsdist = eqs[eqs['dist']<3]"
   ]
  },
  {
   "cell_type": "code",
   "execution_count": null,
   "metadata": {},
   "outputs": [],
   "source": [
    "eqsdist['dist'].count()"
   ]
  },
  {
   "cell_type": "code",
   "execution_count": null,
   "metadata": {
    "scrolled": true
   },
   "outputs": [],
   "source": [
    "fig, (ax1) = plt.subplots(nrows=1,ncols=1, figsize=(15,5))\n",
    "\n",
    "#magnitude vs time\n",
    "eqsdist.plot(y=' magnitude', marker='o', markersize=5, linestyle='None', color='red', legend=False, ax=ax1, rot=0)\n",
    "\n",
    "#yearly ticks and grid\n",
    "majorTick = mpl.dates.YearLocator(1)\n",
    "majorFormat = mpl.dates.DateFormatter('%Y')\n",
    "ax1.xaxis.set_major_locator(majorTick)\n",
    "ax1.xaxis.set_major_formatter(majorFormat)\n",
    "\n",
    "ax1.set_ylim([0,4.2])\n",
    "now = datetime.datetime.now()\n",
    "ax1.set_xlim(start, str(now))\n",
    "ax1.set_ylabel('Magnitude')\n",
    "ax1.tick_params(labelright = True)\n",
    "\n",
    "#titles and text\n",
    "ax1.text(x = 0, y =0.95, transform=fig.transFigure, s = 'Earthquakes Located by GeoNet at Ngatamariki Geothermal Field', horizontalalignment='left', fontsize = 20, color = 'black');\n",
    "ax1.text(x = 0, y = 0.90, transform=fig.transFigure, s = 'GeoNet, www.geonet.org.nz', fontsize = 14, color = 'darkgray')\n",
    "ax1.text(x = 1, y = 0.9, transform=fig.transFigure, s = 'SOURCE: GEONET, EARTHQUAKE DATABASE', horizontalalignment='right', fontsize = 14, color = 'darkgray');\n",
    "\n",
    "plt.xticks(ha='center') \n",
    "plt.xlabel(\"\") #get rid of useless 'date' label\n",
    "plt.tight_layout()\n",
    "plt.savefig('ngatamariki_time-series.png', dpi=200)"
   ]
  },
  {
   "cell_type": "markdown",
   "metadata": {},
   "source": [
    "### Mokai"
   ]
  },
  {
   "cell_type": "code",
   "execution_count": null,
   "metadata": {},
   "outputs": [],
   "source": [
    "eqs['dist'] = haversine_np(eqs['longitude'],eqs[' latitude'],mokai_lonref,mokai_latref)"
   ]
  },
  {
   "cell_type": "code",
   "execution_count": null,
   "metadata": {},
   "outputs": [],
   "source": [
    "eqsdist = eqs[eqs['dist']<3]"
   ]
  },
  {
   "cell_type": "code",
   "execution_count": null,
   "metadata": {},
   "outputs": [],
   "source": [
    "eqsdist['dist'].count()"
   ]
  },
  {
   "cell_type": "code",
   "execution_count": null,
   "metadata": {
    "scrolled": true
   },
   "outputs": [],
   "source": [
    "fig, (ax1) = plt.subplots(nrows=1,ncols=1, figsize=(15,5))\n",
    "\n",
    "#magnitude vs time\n",
    "eqsdist.plot(y=' magnitude', marker='o', markersize=5, linestyle='None', color='red', legend=False, ax=ax1, rot=0)\n",
    "\n",
    "#yearly ticks and grid\n",
    "majorTick = mpl.dates.YearLocator(1)\n",
    "majorFormat = mpl.dates.DateFormatter('%Y')\n",
    "ax1.xaxis.set_major_locator(majorTick)\n",
    "ax1.xaxis.set_major_formatter(majorFormat)\n",
    "\n",
    "ax1.set_ylim([0,4.2])\n",
    "now = datetime.datetime.now()\n",
    "ax1.set_xlim(start, str(now))\n",
    "ax1.set_ylabel('Magnitude')\n",
    "ax1.tick_params(labelright = True)\n",
    "\n",
    "#titles and text\n",
    "ax1.text(x = 0, y =0.95, transform=fig.transFigure, s = 'Earthquakes Located by GeoNet at Mokai Geothermal Field', horizontalalignment='left', fontsize = 20, color = 'black');\n",
    "ax1.text(x = 0, y = 0.90, transform=fig.transFigure, s = 'GeoNet, www.geonet.org.nz', fontsize = 14, color = 'darkgray')\n",
    "ax1.text(x = 1, y = 0.9, transform=fig.transFigure, s = 'SOURCE: GEONET, EARTHQUAKE DATABASE', horizontalalignment='right', fontsize = 14, color = 'darkgray');\n",
    "\n",
    "plt.xticks(ha='center') \n",
    "plt.xlabel(\"\") #get rid of useless 'date' label\n",
    "plt.tight_layout()\n",
    "plt.savefig('mokai_time-series.png', dpi=200)"
   ]
  },
  {
   "cell_type": "markdown",
   "metadata": {},
   "source": [
    "### Wairakei-Tauhara"
   ]
  },
  {
   "cell_type": "code",
   "execution_count": null,
   "metadata": {},
   "outputs": [],
   "source": [
    "eqs['dist'] = haversine_np(eqs['longitude'],eqs[' latitude'],wairakei_tauhara_lonref,wairakei_tauhara_latref)"
   ]
  },
  {
   "cell_type": "code",
   "execution_count": null,
   "metadata": {},
   "outputs": [],
   "source": [
    "eqsdist = eqs[eqs['dist']<8]"
   ]
  },
  {
   "cell_type": "code",
   "execution_count": null,
   "metadata": {},
   "outputs": [],
   "source": [
    "eqsdist['dist'].count()"
   ]
  },
  {
   "cell_type": "code",
   "execution_count": null,
   "metadata": {
    "scrolled": true
   },
   "outputs": [],
   "source": [
    "fig, (ax1) = plt.subplots(nrows=1,ncols=1, figsize=(15,5))\n",
    "\n",
    "#magnitude vs time\n",
    "eqsdist.plot(y=' magnitude', marker='o', markersize=5, linestyle='None', color='red', legend=False, ax=ax1, rot=0)\n",
    "\n",
    "#yearly ticks and grid\n",
    "majorTick = mpl.dates.YearLocator(1)\n",
    "majorFormat = mpl.dates.DateFormatter('%Y')\n",
    "ax1.xaxis.set_major_locator(majorTick)\n",
    "ax1.xaxis.set_major_formatter(majorFormat)\n",
    "\n",
    "ax1.set_ylim([0,4.2])\n",
    "now = datetime.datetime.now()\n",
    "ax1.set_xlim(start, str(now))\n",
    "ax1.set_ylabel('Magnitude')\n",
    "ax1.tick_params(labelright = True)\n",
    "\n",
    "#titles and text\n",
    "ax1.text(x = 0, y =0.95, transform=fig.transFigure, s = 'Earthquakes Located by GeoNet at Wairakei-Tauhara Geothermal Field', horizontalalignment='left', fontsize = 20, color = 'black');\n",
    "ax1.text(x = 0, y = 0.90, transform=fig.transFigure, s = 'GeoNet, www.geonet.org.nz', fontsize = 14, color = 'darkgray')\n",
    "ax1.text(x = 1, y = 0.9, transform=fig.transFigure, s = 'SOURCE: GEONET, EARTHQUAKE DATABASE', horizontalalignment='right', fontsize = 14, color = 'darkgray');\n",
    "\n",
    "plt.xticks(ha='center') \n",
    "plt.xlabel(\"\") #get rid of useless 'date' label\n",
    "plt.tight_layout()\n",
    "plt.savefig('wairakei_time-series.png', dpi=200)"
   ]
  }
 ],
 "metadata": {
  "kernelspec": {
   "display_name": "Python 3",
   "language": "python",
   "name": "python3"
  },
  "language_info": {
   "codemirror_mode": {
    "name": "ipython",
    "version": 3
   },
   "file_extension": ".py",
   "mimetype": "text/x-python",
   "name": "python",
   "nbconvert_exporter": "python",
   "pygments_lexer": "ipython3",
   "version": "3.7.1"
  }
 },
 "nbformat": 4,
 "nbformat_minor": 2
}
